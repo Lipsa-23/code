{
 "cells": [
  {
   "cell_type": "code",
   "execution_count": 2,
   "id": "a0eb67de",
   "metadata": {},
   "outputs": [
    {
     "name": "stdout",
     "output_type": "stream",
     "text": [
      "1\n",
      "2\n",
      "3\n",
      "4\n",
      "5\n",
      "6\n",
      "7\n",
      "8\n",
      "9\n",
      "10\n"
     ]
    }
   ],
   "source": [
    "a = 1\n",
    "while a<=10:\n",
    "    print(a)\n",
    "    a=a+1"
   ]
  },
  {
   "cell_type": "code",
   "execution_count": 3,
   "id": "0a082a58",
   "metadata": {},
   "outputs": [],
   "source": [
    "#sum of the number til some point"
   ]
  },
  {
   "cell_type": "code",
   "execution_count": 9,
   "id": "7ecbc60d",
   "metadata": {},
   "outputs": [
    {
     "name": "stdout",
     "output_type": "stream",
     "text": [
      "Enter your limit5\n"
     ]
    },
    {
     "data": {
      "text/plain": [
       "15"
      ]
     },
     "execution_count": 9,
     "metadata": {},
     "output_type": "execute_result"
    }
   ],
   "source": [
    "n = int(input(\"Enter your limit\"))\n",
    "starting_point = 0\n",
    "count = 1\n",
    "while count <= n:\n",
    "     starting_point = starting_point + count\n",
    "     count = count+1\n",
    "starting_point\n"
   ]
  },
  {
   "cell_type": "code",
   "execution_count": 12,
   "id": "033eb059",
   "metadata": {},
   "outputs": [
    {
     "name": "stdout",
     "output_type": "stream",
     "text": [
      "Enter your number5\n"
     ]
    },
    {
     "data": {
      "text/plain": [
       "120"
      ]
     },
     "execution_count": 12,
     "metadata": {},
     "output_type": "execute_result"
    }
   ],
   "source": [
    "number = int(input(\"Enter your number\"))\n",
    "factorial = 1\n",
    "while number>0:\n",
    "      factorial = factorial*number\n",
    "      number = number-1\n",
    "factorial"
   ]
  },
  {
   "cell_type": "code",
   "execution_count": 13,
   "id": "843e69cd",
   "metadata": {},
   "outputs": [],
   "source": [
    "#fivonacci series"
   ]
  },
  {
   "cell_type": "code",
   "execution_count": null,
   "id": "ee6fef9c",
   "metadata": {},
   "outputs": [],
   "source": [
    "num = int(input(\"Enter number of the element you are lokking for\"))\n",
    "a,b=0,1\n",
    "counter = 0\n",
    "while counter < num:\n",
    "    print(a)\n",
    "    a = b\n",
    "    b = c\n",
    "    counter = counter +1\n"
   ]
  },
  {
   "cell_type": "code",
   "execution_count": 1,
   "id": "f14535f7",
   "metadata": {},
   "outputs": [
    {
     "name": "stdout",
     "output_type": "stream",
     "text": [
      "Enter number of the element you are lokking for10\n",
      "0\n",
      "1\n",
      "1\n",
      "2\n",
      "3\n",
      "5\n",
      "8\n",
      "13\n",
      "21\n",
      "34\n"
     ]
    }
   ],
   "source": [
    "num = int(input(\"Enter number of the element you are lokking for\"))\n",
    "a,b = 0,1\n",
    "counter = 0\n",
    "while counter < num:\n",
    "    print(a)\n",
    "    c = a+b\n",
    "    a = b\n",
    "    b = c\n",
    "    counter = counter +1"
   ]
  },
  {
   "cell_type": "code",
   "execution_count": 5,
   "id": "917d856d",
   "metadata": {},
   "outputs": [
    {
     "name": "stdout",
     "output_type": "stream",
     "text": [
      "0\n",
      "1\n",
      "1\n",
      "2\n",
      "3\n",
      "5\n",
      "8\n",
      "13\n",
      "21\n",
      "34\n"
     ]
    }
   ],
   "source": [
    "a,b = 0,1\n",
    "for i in range(10):\n",
    "    print(a)\n",
    "    c = a+b\n",
    "    a = b\n",
    "    b = c\n",
    "    "
   ]
  },
  {
   "cell_type": "code",
   "execution_count": 6,
   "id": "c3015a5b",
   "metadata": {},
   "outputs": [
    {
     "data": {
      "text/plain": [
       "'hdus'"
      ]
     },
     "execution_count": 6,
     "metadata": {},
     "output_type": "execute_result"
    }
   ],
   "source": [
    "s = \"sudh\"\n",
    "s[::-1]"
   ]
  },
  {
   "cell_type": "code",
   "execution_count": 11,
   "id": "7f8a701e",
   "metadata": {},
   "outputs": [
    {
     "name": "stdout",
     "output_type": "stream",
     "text": [
      "Enter your string for reversalsudh\n"
     ]
    }
   ],
   "source": [
    "word = input(\"Enter your string for reversal\")\n"
   ]
  },
  {
   "cell_type": "code",
   "execution_count": 13,
   "id": "c78029f2",
   "metadata": {},
   "outputs": [
    {
     "name": "stdout",
     "output_type": "stream",
     "text": [
      "hdus\n"
     ]
    }
   ],
   "source": [
    "reverse = \"\"\n",
    "length = len(word)\n",
    "while length>0:\n",
    "    reverse = reverse+word[length-1]\n",
    "    length = length-1\n",
    "print(reverse)"
   ]
  },
  {
   "cell_type": "code",
   "execution_count": 16,
   "id": "5d9809bd",
   "metadata": {},
   "outputs": [
    {
     "name": "stdout",
     "output_type": "stream",
     "text": [
      "hdus\n"
     ]
    }
   ],
   "source": [
    "reverse =''\n",
    "length= len(word)\n",
    "for i in range(length):\n",
    "    reverse = reverse + word[length-1]\n",
    "    length = length-1\n",
    "print(reverse)\n",
    "    "
   ]
  },
  {
   "cell_type": "code",
   "execution_count": 17,
   "id": "928d3b74",
   "metadata": {},
   "outputs": [],
   "source": [
    "#print table of numbers"
   ]
  },
  {
   "cell_type": "code",
   "execution_count": 7,
   "id": "c0b2920e",
   "metadata": {},
   "outputs": [
    {
     "name": "stdout",
     "output_type": "stream",
     "text": [
      "Enter your number2\n",
      "2  * 1  = 2\n",
      "2  * 2  = 4\n",
      "2  * 3  = 6\n",
      "2  * 4  = 8\n",
      "2  * 5  = 10\n",
      "2  * 6  = 12\n",
      "2  * 7  = 14\n",
      "2  * 8  = 16\n",
      "2  * 9  = 18\n",
      "2  * 10  = 20\n"
     ]
    }
   ],
   "source": [
    "n = int(input(\"Enter your number\"))\n",
    "i = 1;\n",
    "while i<=10:\n",
    "    result = n *i\n",
    "    print(n,\" *\",i,\" =\",result)\n",
    "    i= i+1\n",
    "    "
   ]
  },
  {
   "cell_type": "code",
   "execution_count": 10,
   "id": "254629bd",
   "metadata": {},
   "outputs": [
    {
     "name": "stdout",
     "output_type": "stream",
     "text": [
      "Enter your number3\n",
      "3  * 1  = 3\n",
      "3  * 2  = 6\n",
      "3  * 3  = 9\n",
      "3  * 4  = 12\n",
      "3  * 5  = 15\n",
      "3  * 6  = 18\n",
      "3  * 7  = 21\n",
      "3  * 8  = 24\n",
      "3  * 9  = 27\n",
      "3  * 10  = 30\n"
     ]
    }
   ],
   "source": [
    "n = int(input(\"Enter your number\"))\n",
    "\n",
    "for i in range(1,11):\n",
    "    result = n*i\n",
    "    print(n,' *',i,' =',result)\n",
    "    i = i+1"
   ]
  },
  {
   "cell_type": "code",
   "execution_count": 15,
   "id": "556efc6e",
   "metadata": {},
   "outputs": [
    {
     "name": "stdout",
     "output_type": "stream",
     "text": [
      "1\n",
      "2\n",
      "3\n"
     ]
    }
   ],
   "source": [
    "n = 5\n",
    "i = 1\n",
    "while i<5:\n",
    "    print(i)\n",
    "    if i == 3:\n",
    "        break\n",
    "    i=i+1\n",
    "else:\n",
    "    print(\"this will be executed once your while will complete it succesfully\")"
   ]
  },
  {
   "cell_type": "code",
   "execution_count": null,
   "id": "4db6a294",
   "metadata": {},
   "outputs": [],
   "source": []
  }
 ],
 "metadata": {
  "kernelspec": {
   "display_name": "Python 3 (ipykernel)",
   "language": "python",
   "name": "python3"
  },
  "language_info": {
   "codemirror_mode": {
    "name": "ipython",
    "version": 3
   },
   "file_extension": ".py",
   "mimetype": "text/x-python",
   "name": "python",
   "nbconvert_exporter": "python",
   "pygments_lexer": "ipython3",
   "version": "3.11.1"
  }
 },
 "nbformat": 4,
 "nbformat_minor": 5
}
