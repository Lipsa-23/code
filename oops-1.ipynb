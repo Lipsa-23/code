{
 "cells": [
  {
   "cell_type": "code",
   "execution_count": 1,
   "id": "f1147b66",
   "metadata": {},
   "outputs": [],
   "source": [
    "a = 1"
   ]
  },
  {
   "cell_type": "code",
   "execution_count": 2,
   "id": "15fbc488",
   "metadata": {},
   "outputs": [
    {
     "name": "stdout",
     "output_type": "stream",
     "text": [
      "<class 'int'>\n"
     ]
    }
   ],
   "source": [
    "print(type(a))"
   ]
  },
  {
   "cell_type": "code",
   "execution_count": null,
   "id": "168adf05",
   "metadata": {},
   "outputs": [],
   "source": [
    "oop - object oriented programming"
   ]
  },
  {
   "cell_type": "code",
   "execution_count": 3,
   "id": "8deaf7e2",
   "metadata": {},
   "outputs": [],
   "source": [
    "## class is a classification of real world entity"
   ]
  },
  {
   "cell_type": "code",
   "execution_count": 5,
   "id": "e55a45e2",
   "metadata": {},
   "outputs": [],
   "source": [
    "class test :\n",
    "    pass"
   ]
  },
  {
   "cell_type": "code",
   "execution_count": 6,
   "id": "6a74ca09",
   "metadata": {},
   "outputs": [],
   "source": [
    "a = test()"
   ]
  },
  {
   "cell_type": "code",
   "execution_count": 7,
   "id": "9114b49f",
   "metadata": {},
   "outputs": [
    {
     "data": {
      "text/plain": [
       "__main__.test"
      ]
     },
     "execution_count": 7,
     "metadata": {},
     "output_type": "execute_result"
    }
   ],
   "source": [
    "type(a)"
   ]
  },
  {
   "cell_type": "code",
   "execution_count": 8,
   "id": "232f449b",
   "metadata": {},
   "outputs": [
    {
     "name": "stdout",
     "output_type": "stream",
     "text": [
      "<class '__main__.test'>\n"
     ]
    }
   ],
   "source": [
    "print(type(a))"
   ]
  },
  {
   "cell_type": "code",
   "execution_count": 14,
   "id": "11351b3c",
   "metadata": {},
   "outputs": [],
   "source": [
    "class pwskills:\n",
    "    def wellcome_msg(self):\n",
    "        print(\"Wellcome to pwskills\")"
   ]
  },
  {
   "cell_type": "code",
   "execution_count": 15,
   "id": "b1b1ed89",
   "metadata": {},
   "outputs": [],
   "source": [
    "rohan = pwskills()"
   ]
  },
  {
   "cell_type": "code",
   "execution_count": 16,
   "id": "66c6211a",
   "metadata": {},
   "outputs": [
    {
     "name": "stdout",
     "output_type": "stream",
     "text": [
      "<class '__main__.pwskills'>\n"
     ]
    }
   ],
   "source": [
    "print(type(rohan))"
   ]
  },
  {
   "cell_type": "code",
   "execution_count": 17,
   "id": "b9fd23e8",
   "metadata": {},
   "outputs": [
    {
     "name": "stdout",
     "output_type": "stream",
     "text": [
      "Wellcome to pwskills\n"
     ]
    }
   ],
   "source": [
    "rohan.wellcome_msg()"
   ]
  },
  {
   "cell_type": "code",
   "execution_count": 18,
   "id": "f0a3f1d7",
   "metadata": {},
   "outputs": [],
   "source": [
    "lipsa = pwskills()"
   ]
  },
  {
   "cell_type": "code",
   "execution_count": 19,
   "id": "7076eddb",
   "metadata": {},
   "outputs": [
    {
     "name": "stdout",
     "output_type": "stream",
     "text": [
      "Wellcome to pwskills\n"
     ]
    }
   ],
   "source": [
    "lipsa.wellcome_msg()"
   ]
  },
  {
   "cell_type": "code",
   "execution_count": 20,
   "id": "16f73c21",
   "metadata": {},
   "outputs": [],
   "source": [
    "class pwskills1:\n",
    "    def __init__(self,phone_number,email_id,student_id):\n",
    "        self.phone_number = phone_number\n",
    "        self.email_id = email_id\n",
    "        self.student_id = student_id\n",
    "    def return_details(self):\n",
    "        return self.student_id,self.phone_number,self.email_id\n",
    "    \n",
    "        \n",
    "        "
   ]
  },
  {
   "cell_type": "code",
   "execution_count": 21,
   "id": "0fc91e11",
   "metadata": {},
   "outputs": [
    {
     "ename": "TypeError",
     "evalue": "pwskills1.__init__() missing 3 required positional arguments: 'phone_number', 'email_id', and 'student_id'",
     "output_type": "error",
     "traceback": [
      "\u001b[1;31m---------------------------------------------------------------------------\u001b[0m",
      "\u001b[1;31mTypeError\u001b[0m                                 Traceback (most recent call last)",
      "Cell \u001b[1;32mIn[21], line 1\u001b[0m\n\u001b[1;32m----> 1\u001b[0m rohan \u001b[38;5;241m=\u001b[39m \u001b[43mpwskills1\u001b[49m\u001b[43m(\u001b[49m\u001b[43m)\u001b[49m\n",
      "\u001b[1;31mTypeError\u001b[0m: pwskills1.__init__() missing 3 required positional arguments: 'phone_number', 'email_id', and 'student_id'"
     ]
    }
   ],
   "source": [
    "rohan = pwskills1()"
   ]
  },
  {
   "cell_type": "code",
   "execution_count": 23,
   "id": "32b30f30",
   "metadata": {},
   "outputs": [],
   "source": [
    "lipsa = pwskills1(9337226593,\"kanungolipsa3@gmail.com\",101)"
   ]
  },
  {
   "cell_type": "code",
   "execution_count": 25,
   "id": "213f62d5",
   "metadata": {},
   "outputs": [
    {
     "data": {
      "text/plain": [
       "[101, 9337226593, 'kanungolipsa3@gmail.com']"
      ]
     },
     "execution_count": 25,
     "metadata": {},
     "output_type": "execute_result"
    }
   ],
   "source": [
    "list(lipsa.return_details())"
   ]
  },
  {
   "cell_type": "code",
   "execution_count": 28,
   "id": "7b35cb55",
   "metadata": {},
   "outputs": [],
   "source": [
    "dibyajyoti= pwskills1(9337226593,\"dibya34@gmail.com\",200)"
   ]
  },
  {
   "cell_type": "code",
   "execution_count": 29,
   "id": "d5c16ecf",
   "metadata": {},
   "outputs": [
    {
     "data": {
      "text/plain": [
       "(200, 9337226593, 'dibya34@gmail.com')"
      ]
     },
     "execution_count": 29,
     "metadata": {},
     "output_type": "execute_result"
    }
   ],
   "source": [
    "dibyajyoti.return_details()"
   ]
  },
  {
   "cell_type": "code",
   "execution_count": 33,
   "id": "b20eeac5",
   "metadata": {},
   "outputs": [],
   "source": [
    "class pwskills2:\n",
    "    def __init__(self,phone_number,email_id,student_id):\n",
    "        self.phone_number1 = phone_number\n",
    "        self.email_id1 = email_id\n",
    "        self.student_id1 = student_id\n",
    "    def return_details(self):\n",
    "        return self.student_id1,self.phone_number1,self.email_id1\n",
    "    \n",
    "        "
   ]
  },
  {
   "cell_type": "code",
   "execution_count": 34,
   "id": "252798c9",
   "metadata": {},
   "outputs": [],
   "source": [
    "sudh = pwskills2(8763817940,\"sudh@gmail.com\",103)"
   ]
  },
  {
   "cell_type": "code",
   "execution_count": 35,
   "id": "98baea46",
   "metadata": {},
   "outputs": [
    {
     "data": {
      "text/plain": [
       "(103, 8763817940, 'sudh@gmail.com')"
      ]
     },
     "execution_count": 35,
     "metadata": {},
     "output_type": "execute_result"
    }
   ],
   "source": [
    "sudh.return_details()"
   ]
  },
  {
   "cell_type": "code",
   "execution_count": 37,
   "id": "0f36a10b",
   "metadata": {},
   "outputs": [
    {
     "data": {
      "text/plain": [
       "8763817940"
      ]
     },
     "execution_count": 37,
     "metadata": {},
     "output_type": "execute_result"
    }
   ],
   "source": [
    "sudh.phone_number1"
   ]
  },
  {
   "cell_type": "code",
   "execution_count": 38,
   "id": "a58bee38",
   "metadata": {},
   "outputs": [],
   "source": [
    "## __init__() is built in constructor"
   ]
  },
  {
   "cell_type": "code",
   "execution_count": 39,
   "id": "65d7946e",
   "metadata": {},
   "outputs": [],
   "source": [
    "class pwskills2:\n",
    "    def __init__(lip,phone_number,email_id,student_id):\n",
    "        lip.phone_number1 = phone_number\n",
    "        lip.email_id1 = email_id\n",
    "        lip.student_id1 = student_id\n",
    "    def return_details(lip):\n",
    "        return lip.student_id1,lip.phone_number1,lip.email_id1\n",
    "    "
   ]
  },
  {
   "cell_type": "code",
   "execution_count": 40,
   "id": "4db58951",
   "metadata": {},
   "outputs": [],
   "source": [
    "dibyajyoti= pwskills2(9337226593,\"dibya34@gmail.com\",200)"
   ]
  },
  {
   "cell_type": "code",
   "execution_count": 41,
   "id": "5874745f",
   "metadata": {},
   "outputs": [
    {
     "data": {
      "text/plain": [
       "(200, 9337226593, 'dibya34@gmail.com')"
      ]
     },
     "execution_count": 41,
     "metadata": {},
     "output_type": "execute_result"
    }
   ],
   "source": [
    "dibyajyoti.return_details()"
   ]
  },
  {
   "cell_type": "code",
   "execution_count": null,
   "id": "85c72846",
   "metadata": {},
   "outputs": [],
   "source": []
  }
 ],
 "metadata": {
  "kernelspec": {
   "display_name": "Python 3 (ipykernel)",
   "language": "python",
   "name": "python3"
  },
  "language_info": {
   "codemirror_mode": {
    "name": "ipython",
    "version": 3
   },
   "file_extension": ".py",
   "mimetype": "text/x-python",
   "name": "python",
   "nbconvert_exporter": "python",
   "pygments_lexer": "ipython3",
   "version": "3.11.1"
  }
 },
 "nbformat": 4,
 "nbformat_minor": 5
}
